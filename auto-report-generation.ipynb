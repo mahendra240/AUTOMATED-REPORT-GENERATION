{
 "cells": [
  {
   "cell_type": "markdown",
   "id": "31fe4dcf",
   "metadata": {},
   "source": [
    "pip install pandas"
   ]
  },
  {
   "cell_type": "code",
   "execution_count": 1,
   "id": "83b65383",
   "metadata": {},
   "outputs": [
    {
     "name": "stdout",
     "output_type": "stream",
     "text": [
      " PAN Card PDF generated successfully.\n"
     ]
    }
   ],
   "source": [
    "# -------------------------------------------------\n",
    "# PAN Card PDF Generator using FPDF\n",
    "# -------------------------------------------------\n",
    "# Author: Example\n",
    "# Description:\n",
    "# This script generates a sample PAN Card-like PDF\n",
    "# using the FPDF library in Python.\n",
    "# -------------------------------------------------\n",
    "\n",
    "# Import required libraries\n",
    "import pandas as pd   # (Not actually used here, but can be useful if fetching data from Excel/CSV later)\n",
    "from fpdf import FPDF\n",
    "\n",
    "# -------------------------------------------------\n",
    "# Step 1: Create PDF object\n",
    "# -------------------------------------------------\n",
    "# Arguments:\n",
    "#   \"L\" -> Landscape orientation\n",
    "#   \"mm\" -> Measurement unit in millimeters\n",
    "#   (90, 150) -> Custom page size (height=90mm, width=150mm)\n",
    "pdf = FPDF(\"L\", \"mm\", (90, 150))\n",
    "pdf.add_page()  # Add a new page\n",
    "\n",
    "# -------------------------------------------------\n",
    "# Step 2: Set Title / Header\n",
    "# -------------------------------------------------\n",
    "pdf.set_font(\"Arial\", \"B\", 10)  # Bold font, size 10\n",
    "pdf.cell(0, 8, \"Income Tax Department\", ln=True, align=\"C\")  # Center-aligned heading\n",
    "\n",
    "# -------------------------------------------------\n",
    "# Step 3: Set General Font for Details\n",
    "# -------------------------------------------------\n",
    "pdf.set_font(\"Arial\", size=10)  # Regular font, size 10\n",
    "pdf.ln(2)  # Line break for spacing\n",
    "\n",
    "# -------------------------------------------------\n",
    "# Step 4: Add PAN Card Holder Details\n",
    "# -------------------------------------------------\n",
    "# Each row has a label (fixed width=30mm) and a value (flexible width)\n",
    "pdf.cell(30, 6, \"Name:\", 0)  \n",
    "pdf.cell(0, 6, \"Uppe Mahendra\", ln=True)  \n",
    "\n",
    "pdf.cell(30, 6, \"Father's Name:\", 0)\n",
    "pdf.cell(0, 6, \"Uppe Raju\", ln=True)\n",
    "\n",
    "pdf.cell(30, 6, \"Date of Birth:\", 0)\n",
    "pdf.cell(0, 6, \"19/01/2003\", ln=True)\n",
    "\n",
    "pdf.cell(30, 6, \"Gender:\", 0)\n",
    "pdf.cell(0, 6, \"Male\", ln=True)\n",
    "\n",
    "pdf.cell(30, 6, \"PAN Number:\", 0)\n",
    "pdf.cell(0, 6, \"APZPU55K\", ln=True)\n",
    "\n",
    "pdf.cell(30, 6, \"Date of Issue:\", 0)\n",
    "pdf.cell(0, 6, \"01/09/2025\", ln=True)\n",
    "\n",
    "# -------------------------------------------------\n",
    "# Step 5: Save PDF File\n",
    "# -------------------------------------------------\n",
    "pdf.output(\"Sample_PAN_Card.pdf\")  # Save as file\n",
    "print(\" PAN Card PDF generated successfully.\")\n"
   ]
  }
 ],
 "metadata": {
  "kernelspec": {
   "display_name": "myvenv",
   "language": "python",
   "name": "python3"
  },
  "language_info": {
   "codemirror_mode": {
    "name": "ipython",
    "version": 3
   },
   "file_extension": ".py",
   "mimetype": "text/x-python",
   "name": "python",
   "nbconvert_exporter": "python",
   "pygments_lexer": "ipython3",
   "version": "3.13.7"
  }
 },
 "nbformat": 4,
 "nbformat_minor": 5
}
