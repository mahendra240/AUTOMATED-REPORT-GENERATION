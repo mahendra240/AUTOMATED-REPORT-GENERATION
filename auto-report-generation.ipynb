{
 "cells": [
  {
   "cell_type": "code",
   "execution_count": null,
   "id": "83b65383",
   "metadata": {},
   "outputs": [],
   "source": [
    "import pandas as pd\n",
    "from fpdf import FPDF\n",
    "\n",
    "pdf = FPDF(\"L\", \"mm\", (90, 150))  \n",
    "pdf.add_page( )\n",
    "pdf.set_font(\"Arial\", \"B\", 10)\n",
    "\n",
    "pdf.cell(0, 8, \"Income Tax Department\", ln=True, align=\"C\")\n",
    "\n",
    "pdf.set_font(\"Arial\", size=10)\n",
    "pdf.ln(2)\n",
    "\n",
    "pdf.cell(30, 6, \"Name:\", 0)\n",
    "pdf.cell(0, 6, \"Uppe Mahendra\", ln=True)\n",
    "\n",
    "pdf.cell(30, 6, \"Father's Name:\", 0)\n",
    "pdf.cell(0, 6, \"Uppe Raju\", ln=True)\n",
    "\n",
    "pdf.cell(30, 6, \"Date of Birth:\", 0)\n",
    "pdf.cell(0, 6, \"19/01/2003\", ln=True)\n",
    "\n",
    "pdf.cell(30, 6, \"Gender:\", 0)\n",
    "pdf.cell(0, 6, \"Male\", ln=True)\n",
    "\n",
    "pdf.cell(30, 6, \"PAN Number:\", 0)\n",
    "pdf.cell(0, 6, \"APZPU55K\", ln=True)\n",
    "\n",
    "pdf.cell(30, 6, \"Date of Issue:\", 0)\n",
    "pdf.cell(0, 6, \"01/09/2025\", ln=True)\n",
    "\n",
    "# Save file\n",
    "pdf.output(\"Sample_PAN_Card.pdf\")\n",
    "print(\" PAN Card PDF generated successfully.\")"
   ]
  }
 ],
 "metadata": {
  "language_info": {
   "name": "python"
  }
 },
 "nbformat": 4,
 "nbformat_minor": 5
}
